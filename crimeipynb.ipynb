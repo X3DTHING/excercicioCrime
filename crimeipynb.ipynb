{
  "nbformat": 4,
  "nbformat_minor": 0,
  "metadata": {
    "colab": {
      "provenance": [],
      "authorship_tag": "ABX9TyPC7PLpfnYl+5tM3fSDiKy1",
      "include_colab_link": true
    },
    "kernelspec": {
      "name": "python3",
      "display_name": "Python 3"
    },
    "language_info": {
      "name": "python"
    }
  },
  "cells": [
    {
      "cell_type": "markdown",
      "metadata": {
        "id": "view-in-github",
        "colab_type": "text"
      },
      "source": [
        "<a href=\"https://colab.research.google.com/github/X3DTHING/excercicioCrime/blob/main/crimeipynb.ipynb\" target=\"_parent\"><img src=\"https://colab.research.google.com/assets/colab-badge.svg\" alt=\"Open In Colab\"/></a>"
      ]
    },
    {
      "cell_type": "code",
      "execution_count": 1,
      "metadata": {
        "colab": {
          "base_uri": "https://localhost:8080/"
        },
        "id": "Z-KBJTPgT4yJ",
        "outputId": "1e148689-9b3f-491f-8b14-e51f65b2a208"
      },
      "outputs": [
        {
          "output_type": "stream",
          "name": "stdout",
          "text": [
            "Responda com 'sim' ou 'não' para as seguintes perguntas:\n",
            "Telefonou para a vítima? não\n",
            "Esteve no local do crime? sim\n",
            "Mora perto da vítima? sim\n",
            "Devia para a vítima? nao\n",
            "Já trabalhou com a vítima? sim\n",
            "Você é considerado(a) cúmplice!\n"
          ]
        }
      ],
      "source": [
        "print(\"Responda com 'sim' ou 'não' para as seguintes perguntas:\")\n",
        "\n",
        "# Inicializa o contador de respostas positivas\n",
        "respostas_positivas = 0\n",
        "\n",
        "# Pergunta 1\n",
        "resposta = input(\"Telefonou para a vítima? \").lower()\n",
        "if resposta == 'sim':\n",
        "    respostas_positivas += 1\n",
        "\n",
        "# Pergunta 2\n",
        "resposta = input(\"Esteve no local do crime? \").lower()\n",
        "if resposta == 'sim':\n",
        "    respostas_positivas += 1\n",
        "\n",
        "# Pergunta 3\n",
        "resposta = input(\"Mora perto da vítima? \").lower()\n",
        "if resposta == 'sim':\n",
        "    respostas_positivas += 1\n",
        "\n",
        "# Pergunta 4\n",
        "resposta = input(\"Devia para a vítima? \").lower()\n",
        "if resposta == 'sim':\n",
        "    respostas_positivas += 1\n",
        "\n",
        "# Pergunta 5\n",
        "resposta = input(\"Já trabalhou com a vítima? \").lower()\n",
        "if resposta == 'sim':\n",
        "    respostas_positivas += 1\n",
        "\n",
        "# Emitir classificação\n",
        "if respostas_positivas == 2:\n",
        "    print(\"Você é considerado(a) suspeito(a)!\")\n",
        "elif 3 <= respostas_positivas <= 4:\n",
        "    print(\"Você é considerado(a) cúmplice!\")\n",
        "elif respostas_positivas == 5:\n",
        "    print(\"Você é considerado(a) assassino(a)!\")\n",
        "else:\n",
        "    print(\"Você é considerado(a) inocente!\")\n"
      ]
    }
  ]
}